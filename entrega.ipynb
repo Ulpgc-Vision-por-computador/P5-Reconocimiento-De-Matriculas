{
 "cells": [
  {
   "cell_type": "code",
   "execution_count": null,
   "metadata": {},
   "outputs": [],
   "source": [
    "from ultralytics import YOLO"
   ]
  },
  {
   "cell_type": "code",
   "execution_count": null,
   "metadata": {},
   "outputs": [],
   "source": [
    "# Cargar modelo\n",
    "model = YOLO('yolov8n.yaml') # Construir nuevo modelo desde yaml\n",
    "\n",
    "results = model.train(data='license_plates_dataset/data.yaml', epochs=100, imgsz=640, patience=20)\n"
   ]
  }
 ],
 "metadata": {
  "language_info": {
   "name": "python"
  }
 },
 "nbformat": 4,
 "nbformat_minor": 2
}
