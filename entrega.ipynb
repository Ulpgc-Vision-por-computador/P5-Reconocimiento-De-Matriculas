{
 "cells": [
  {
   "cell_type": "code",
   "execution_count": null,
   "metadata": {},
   "outputs": [],
   "source": [
    "from ultralytics import YOLO\n",
    "import cv2\n",
    "import math\n",
    "import matplotlib.pyplot as plt\n",
    "import pytesseract\n",
    "import easyocr\n",
    "import numpy as np"
   ]
  },
  {
   "cell_type": "code",
   "execution_count": null,
   "metadata": {},
   "outputs": [],
   "source": [
    "# Cargar modelo\n",
    "model = YOLO('yolov8n.yaml') # Construir nuevo modelo desde yaml\n",
    "\n",
    "#results = model.train(data='spanish_license_plates_dataset/data.yaml', epochs=50, imgsz=640)\n"
   ]
  },
  {
   "cell_type": "code",
   "execution_count": null,
   "metadata": {},
   "outputs": [],
   "source": [
    "def read_license_plate_easyocr(license_plate_crop):\n",
    "    # Funcion para leer obtener como texto una matricula en una imagen\n",
    "\n",
    "    # Carga del modelo de lengua Easyocr\n",
    "    reader = easyocr.Reader(['en'], gpu=False) \n",
    "\n",
    "    # Reconocimiento de una imagen\n",
    "    total_license = \"\"\n",
    "    results = reader.readtext(license_plate_crop, min_size=70)\n",
    "    for result in results:\n",
    "        bbox, text, score = result\n",
    "        text = text.upper().replace(' ', '')\n",
    "        total_license += text\n",
    "    return total_license\n",
    "\n",
    "\n",
    "def read_license_plate_pytesseract(license_plate_crop):\n",
    "    # Funcion para leer obtener como texto una matricula en una imagen\n",
    "\n",
    "    # Carga del modelo de lengua Pytesseract\n",
    "    pytesseract.pytesseract.tesseract_cmd = r'C:/Program Files/Tesseract-OCR/tesseract'\n",
    "\n",
    "    # Lenguajes disponibles\n",
    "    pytesseract.get_languages(config='')\n",
    "\n",
    "    #Aplica reconocedor a imagen cargada\n",
    "    return pytesseract.image_to_string(license_plate_crop)\n"
   ]
  },
  {
   "cell_type": "markdown",
   "metadata": {},
   "source": [
    "Reconocedor de matrículas empleando imágenes"
   ]
  },
  {
   "cell_type": "code",
   "execution_count": null,
   "metadata": {},
   "outputs": [],
   "source": [
    "# Carga el modelo con los pesos de la mejor epoca\n",
    "bestModel = YOLO('runs/detect/train6/weights/best.pt')\n",
    "classNames = ['matricula'] \n",
    "\n",
    "image_path = 'media/imagetest6.jpg'\n",
    "img = cv2.imread(image_path)\n",
    "\n",
    "\n",
    "img_rgb = cv2.cvtColor(img, cv2.COLOR_BGR2RGB)\n",
    "\n",
    "results = bestModel(img, stream=True)\n",
    "\n",
    "for r in results:\n",
    "    boxes = r.boxes\n",
    "\n",
    "    # Matriculas detectadas\n",
    "    for box in boxes:\n",
    "        x1, y1, x2, y2 = box.xyxy[0]\n",
    "        x1, y1, x2, y2 = int(x1), int(y1), int(x2), int(y2)\n",
    "\n",
    "        # Dibuja el contenedor y clase\n",
    "        cv2.rectangle(img, (x1-10, y1-10), (x2+10, y2+10), (0, 0, 255), 4)\n",
    "\n",
    "        # Imagen recortada de la matricula\n",
    "        license_plate_crop = img[y1 - 10:y2 + 10, x1 - 10:x2 + 10]\n",
    "\n",
    "        license_text = read_license_plate_easyocr(license_plate_crop)\n",
    "        cv2.putText(img, license_text, [x1 -10, y1 -10], cv2.FONT_HERSHEY_SIMPLEX, 2, (0, 0, 255), 3)\n",
    "\n",
    "\n",
    "plt.axis(\"off\")\n",
    "plt.imshow(cv2.cvtColor(img, cv2.COLOR_BGR2RGB)) \n",
    "plt.show()"
   ]
  },
  {
   "cell_type": "markdown",
   "metadata": {},
   "source": [
    "Reconocedor de matrículas empleando videos"
   ]
  },
  {
   "cell_type": "code",
   "execution_count": null,
   "metadata": {},
   "outputs": [],
   "source": [
    "# Load the YOLOv8 model\n",
    "model = YOLO('runs/detect/train6/weights/best.pt')\n",
    "\n",
    "# Open the video file\n",
    "video_path = \"media/prueba.mp4\"\n",
    "cap = cv2.VideoCapture(video_path)\n",
    "\n",
    "# Loop through the video frames\n",
    "while cap.isOpened():\n",
    "    # Read a frame from the video\n",
    "    success, frame = cap.read()\n",
    "\n",
    "    if success:\n",
    "        # Run YOLOv8 tracking on the frame, persisting tracks between frames\n",
    "        results = model.track(frame, conf=0.3, iou=0.5, persist=True)\n",
    "        annotated_frame = results[0].plot()\n",
    "        \n",
    "        # Get the boxes and track IDs\n",
    "        if results[0].boxes.id is not None:\n",
    "            boxes = results[0].boxes.xyxy.cpu()\n",
    "            track_ids = results[0].boxes.id.int().cpu().tolist()\n",
    "\n",
    "            for box in boxes:\n",
    "                x1, y1, x2, y2 = map(int, np.array(box))\n",
    "                print(f\"x1: {x1}, y1: {y1}, x2: {x2}, y2: {y2}\")\n",
    "                \n",
    "                # Imagen recortada de la matricula\n",
    "                license_plate_crop = frame[y1:y2, x1:x2]\n",
    "\n",
    "                gray_license_plate = cv2.cvtColor(license_plate_crop, cv2.COLOR_BGR2GRAY)\n",
    "                _, binary_mask = cv2.threshold(gray_license_plate, 0, 255, cv2.THRESH_BINARY + cv2.THRESH_OTSU)\n",
    "                binary_mask = cv2.bitwise_not(binary_mask)\n",
    "                \n",
    "                license_text = read_license_plate_easyocr(binary_mask)\n",
    "                cv2.putText(annotated_frame, license_text, [x1 -10, y1 -30], cv2.FONT_HERSHEY_SIMPLEX, 1, (0, 0, 255), 2)\n",
    "\n",
    "                plt.imshow(cv2.cvtColor(binary_mask, cv2.COLOR_BGR2RGB))\n",
    "                plt.axis('off')  # Turn off axis labels\n",
    "                plt.show()\n",
    "\n",
    "        # Display the annotated frame\n",
    "        cv2.imshow(\"YOLOv8 Tracking\", annotated_frame)\n",
    "\n",
    "        # Break the loop if 'q' is pressed\n",
    "        if cv2.waitKey(1) & 0xFF == ord(\"q\"):\n",
    "            break\n",
    "    else:\n",
    "        # Break the loop if the end of the video is reached\n",
    "        break\n",
    "\n",
    "# Release the video capture object and close the display window\n",
    "cap.release()\n",
    "cv2.destroyAllWindows()"
   ]
  },
  {
   "cell_type": "code",
   "execution_count": 75,
   "metadata": {},
   "outputs": [
    {
     "name": "stderr",
     "output_type": "stream",
     "text": [
      "\n",
      "0: 384x640 2 plates, 139.2ms\n",
      "Speed: 0.0ms preprocess, 139.2ms inference, 8.7ms postprocess per image at shape (1, 3, 384, 640)\n"
     ]
    },
    {
     "name": "stdout",
     "output_type": "stream",
     "text": [
      "Matrícula: \n",
      "Matrícula: \n"
     ]
    },
    {
     "name": "stderr",
     "output_type": "stream",
     "text": [
      "\n",
      "0: 384x640 2 plates, 97.5ms\n",
      "Speed: 9.5ms preprocess, 97.5ms inference, 0.0ms postprocess per image at shape (1, 3, 384, 640)\n"
     ]
    },
    {
     "name": "stdout",
     "output_type": "stream",
     "text": [
      "Matrícula: \n",
      "Matrícula: \n"
     ]
    },
    {
     "name": "stderr",
     "output_type": "stream",
     "text": [
      "\n",
      "0: 384x640 2 plates, 98.6ms\n",
      "Speed: 0.0ms preprocess, 98.6ms inference, 0.0ms postprocess per image at shape (1, 3, 384, 640)\n"
     ]
    },
    {
     "name": "stdout",
     "output_type": "stream",
     "text": [
      "Matrícula: \n",
      "Matrícula: \n"
     ]
    },
    {
     "name": "stderr",
     "output_type": "stream",
     "text": [
      "\n",
      "0: 384x640 2 plates, 95.6ms\n",
      "Speed: 0.0ms preprocess, 95.6ms inference, 0.0ms postprocess per image at shape (1, 3, 384, 640)\n",
      "\n"
     ]
    },
    {
     "name": "stdout",
     "output_type": "stream",
     "text": [
      "Matrícula: \n",
      "Matrícula: \n"
     ]
    },
    {
     "name": "stderr",
     "output_type": "stream",
     "text": [
      "0: 384x640 2 plates, 129.4ms\n",
      "Speed: 8.0ms preprocess, 129.4ms inference, 0.0ms postprocess per image at shape (1, 3, 384, 640)\n",
      "\n"
     ]
    },
    {
     "name": "stdout",
     "output_type": "stream",
     "text": [
      "Matrícula: \n",
      "Matrícula: \n"
     ]
    },
    {
     "name": "stderr",
     "output_type": "stream",
     "text": [
      "0: 384x640 2 plates, 90.4ms\n",
      "Speed: 0.0ms preprocess, 90.4ms inference, 0.0ms postprocess per image at shape (1, 3, 384, 640)\n"
     ]
    },
    {
     "name": "stdout",
     "output_type": "stream",
     "text": [
      "Matrícula: \n",
      "Matrícula: \n"
     ]
    },
    {
     "name": "stderr",
     "output_type": "stream",
     "text": [
      "\n",
      "0: 384x640 2 plates, 101.6ms\n",
      "Speed: 5.4ms preprocess, 101.6ms inference, 0.0ms postprocess per image at shape (1, 3, 384, 640)\n",
      "\n"
     ]
    },
    {
     "name": "stdout",
     "output_type": "stream",
     "text": [
      "Matrícula: \n",
      "Matrícula: \n"
     ]
    },
    {
     "name": "stderr",
     "output_type": "stream",
     "text": [
      "0: 384x640 2 plates, 88.8ms\n",
      "Speed: 7.8ms preprocess, 88.8ms inference, 0.0ms postprocess per image at shape (1, 3, 384, 640)\n"
     ]
    },
    {
     "name": "stdout",
     "output_type": "stream",
     "text": [
      "Matrícula: \n",
      "Matrícula: \n"
     ]
    },
    {
     "name": "stderr",
     "output_type": "stream",
     "text": [
      "\n",
      "0: 384x640 2 plates, 99.4ms\n",
      "Speed: 0.0ms preprocess, 99.4ms inference, 0.0ms postprocess per image at shape (1, 3, 384, 640)\n"
     ]
    },
    {
     "name": "stdout",
     "output_type": "stream",
     "text": [
      "Matrícula: \n",
      "Matrícula: \n"
     ]
    },
    {
     "name": "stderr",
     "output_type": "stream",
     "text": [
      "\n",
      "0: 384x640 2 plates, 96.3ms\n",
      "Speed: 0.0ms preprocess, 96.3ms inference, 8.2ms postprocess per image at shape (1, 3, 384, 640)\n",
      "\n"
     ]
    },
    {
     "name": "stdout",
     "output_type": "stream",
     "text": [
      "Matrícula: \n",
      "Matrícula: \n"
     ]
    },
    {
     "name": "stderr",
     "output_type": "stream",
     "text": [
      "0: 384x640 2 plates, 97.0ms\n",
      "Speed: 0.0ms preprocess, 97.0ms inference, 0.0ms postprocess per image at shape (1, 3, 384, 640)\n"
     ]
    },
    {
     "name": "stdout",
     "output_type": "stream",
     "text": [
      "Matrícula: \n",
      "Matrícula: \n"
     ]
    },
    {
     "name": "stderr",
     "output_type": "stream",
     "text": [
      "\n",
      "0: 384x640 2 plates, 98.0ms\n",
      "Speed: 0.0ms preprocess, 98.0ms inference, 8.2ms postprocess per image at shape (1, 3, 384, 640)\n"
     ]
    },
    {
     "name": "stdout",
     "output_type": "stream",
     "text": [
      "Matrícula: \n",
      "Matrícula: \n"
     ]
    },
    {
     "name": "stderr",
     "output_type": "stream",
     "text": [
      "\n",
      "0: 384x640 2 plates, 89.2ms\n",
      "Speed: 0.0ms preprocess, 89.2ms inference, 8.3ms postprocess per image at shape (1, 3, 384, 640)\n"
     ]
    },
    {
     "name": "stdout",
     "output_type": "stream",
     "text": [
      "Matrícula: \n",
      "Matrícula: \n"
     ]
    },
    {
     "name": "stderr",
     "output_type": "stream",
     "text": [
      "\n",
      "0: 384x640 2 plates, 91.0ms\n",
      "Speed: 5.9ms preprocess, 91.0ms inference, 0.0ms postprocess per image at shape (1, 3, 384, 640)\n",
      "\n"
     ]
    },
    {
     "name": "stdout",
     "output_type": "stream",
     "text": [
      "Matrícula: \n",
      "Matrícula: \n"
     ]
    },
    {
     "name": "stderr",
     "output_type": "stream",
     "text": [
      "0: 384x640 2 plates, 94.4ms\n",
      "Speed: 6.0ms preprocess, 94.4ms inference, 0.0ms postprocess per image at shape (1, 3, 384, 640)\n"
     ]
    },
    {
     "name": "stdout",
     "output_type": "stream",
     "text": [
      "Matrícula: \n",
      "Matrícula: \n"
     ]
    },
    {
     "name": "stderr",
     "output_type": "stream",
     "text": [
      "\n",
      "0: 384x640 2 plates, 103.3ms\n"
     ]
    },
    {
     "name": "stdout",
     "output_type": "stream",
     "text": [
      "Matrícula: \n",
      "Matrícula: \n"
     ]
    },
    {
     "name": "stderr",
     "output_type": "stream",
     "text": [
      "Speed: 0.7ms preprocess, 103.3ms inference, 0.0ms postprocess per image at shape (1, 3, 384, 640)\n",
      "\n",
      "0: 384x640 2 plates, 87.8ms\n",
      "Speed: 2.1ms preprocess, 87.8ms inference, 0.0ms postprocess per image at shape (1, 3, 384, 640)\n",
      "\n"
     ]
    },
    {
     "name": "stdout",
     "output_type": "stream",
     "text": [
      "Matrícula: \n",
      "Matrícula: \n",
      "Matrícula: \n"
     ]
    },
    {
     "name": "stderr",
     "output_type": "stream",
     "text": [
      "0: 384x640 2 plates, 96.7ms\n",
      "Speed: 0.0ms preprocess, 96.7ms inference, 0.0ms postprocess per image at shape (1, 3, 384, 640)\n",
      "\n"
     ]
    },
    {
     "name": "stdout",
     "output_type": "stream",
     "text": [
      "Matrícula: \n"
     ]
    },
    {
     "name": "stderr",
     "output_type": "stream",
     "text": [
      "0: 384x640 2 plates, 99.6ms\n",
      "Speed: 0.0ms preprocess, 99.6ms inference, 6.5ms postprocess per image at shape (1, 3, 384, 640)\n",
      "\n"
     ]
    },
    {
     "name": "stdout",
     "output_type": "stream",
     "text": [
      "Matrícula: \n",
      "Matrícula: \n"
     ]
    },
    {
     "name": "stderr",
     "output_type": "stream",
     "text": [
      "0: 384x640 2 plates, 99.3ms\n",
      "Speed: 0.0ms preprocess, 99.3ms inference, 0.0ms postprocess per image at shape (1, 3, 384, 640)\n"
     ]
    },
    {
     "name": "stdout",
     "output_type": "stream",
     "text": [
      "Matrícula: \n",
      "Matrícula: \n"
     ]
    },
    {
     "name": "stderr",
     "output_type": "stream",
     "text": [
      "\n",
      "0: 384x640 2 plates, 103.3ms\n",
      "Speed: 3.6ms preprocess, 103.3ms inference, 0.0ms postprocess per image at shape (1, 3, 384, 640)\n"
     ]
    },
    {
     "name": "stdout",
     "output_type": "stream",
     "text": [
      "Matrícula: \n",
      "Matrícula: \n"
     ]
    }
   ],
   "source": []
  }
 ],
 "metadata": {
  "kernelspec": {
   "display_name": "vc_practica5",
   "language": "python",
   "name": "python3"
  },
  "language_info": {
   "codemirror_mode": {
    "name": "ipython",
    "version": 3
   },
   "file_extension": ".py",
   "mimetype": "text/x-python",
   "name": "python",
   "nbconvert_exporter": "python",
   "pygments_lexer": "ipython3",
   "version": "3.11.5"
  }
 },
 "nbformat": 4,
 "nbformat_minor": 2
}
